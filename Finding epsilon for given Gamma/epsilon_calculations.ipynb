{
 "cells": [
  {
   "cell_type": "code",
   "execution_count": 61,
   "metadata": {},
   "outputs": [],
   "source": [
    "import numpy as np\n",
    "import sympy as smp\n",
    "import scipy\n",
    "from scipy import constants\n",
    "from sympy.plotting import plot\n",
    "from matplotlib import style\n",
    "\n",
    "x = smp.Symbol('x')\n",
    "z = smp.Symbol('z')\n",
    "\n",
    "L, ZL, w = 1, 1, 0.2"
   ]
  },
  {
   "attachments": {},
   "cell_type": "markdown",
   "metadata": {},
   "source": [
    "### Plotting $\\epsilon(z)$ using Numerical ODE for double pole LPF $\\frac1{(s+1)^2}\\leftrightarrow ze^{-z}$"
   ]
  },
  {
   "cell_type": "code",
   "execution_count": 62,
   "metadata": {},
   "outputs": [
    {
     "data": {
      "text/latex": [
       "$\\displaystyle e^{- 10.0 i z}$"
      ],
      "text/plain": [
       "exp(-10.0*I*z)"
      ]
     },
     "execution_count": 62,
     "metadata": {},
     "output_type": "execute_result"
    }
   ],
   "source": [
    "Gamma = smp.exp(-10j*z)\n",
    "Gamma"
   ]
  },
  {
   "cell_type": "code",
   "execution_count": 63,
   "metadata": {},
   "outputs": [
    {
     "data": {
      "text/latex": [
       "$\\displaystyle \\frac{20.0 i e^{- 10.0 i z}}{1 - e^{- 20.0 i z}}$"
      ],
      "text/plain": [
       "20.0*I*exp(-10.0*I*z)/(1 - exp(-20.0*I*z))"
      ]
     },
     "execution_count": 63,
     "metadata": {},
     "output_type": "execute_result"
    }
   ],
   "source": [
    "a = -2 *  smp.diff(Gamma) * 1/(1-(Gamma)**2)\n",
    "a"
   ]
  },
  {
   "cell_type": "code",
   "execution_count": 64,
   "metadata": {},
   "outputs": [
    {
     "data": {
      "text/latex": [
       "$\\displaystyle \\frac{0.000896798594867766 i e^{- 10.0 i z}}{1 - e^{- 20.0 i z}}$"
      ],
      "text/plain": [
       "0.000896798594867766*I*exp(-10.0*I*z)/(1 - exp(-20.0*I*z))"
      ]
     },
     "execution_count": 64,
     "metadata": {},
     "output_type": "execute_result"
    }
   ],
   "source": [
    "b = 4*1j*w*smp.sqrt(constants.mu_0) * Gamma * 1/(1-(Gamma)**2)\n",
    "b"
   ]
  },
  {
   "attachments": {},
   "cell_type": "markdown",
   "metadata": {},
   "source": [
    "Extract $\\xi\\to y$\n",
    "$$y'(z)+a(z)y(z)+b(z)y^2(z)=0$$"
   ]
  },
  {
   "cell_type": "code",
   "execution_count": 65,
   "metadata": {},
   "outputs": [
    {
     "data": {
      "text/latex": [
       "$\\displaystyle y{\\left(z \\right)}$"
      ],
      "text/plain": [
       "y(z)"
      ]
     },
     "execution_count": 65,
     "metadata": {},
     "output_type": "execute_result"
    }
   ],
   "source": [
    "y = smp.Function(\"y\")(z)\n",
    "y"
   ]
  },
  {
   "attachments": {},
   "cell_type": "markdown",
   "metadata": {},
   "source": [
    "`y.diff()`  \n",
    "`y.integrate()`"
   ]
  },
  {
   "cell_type": "code",
   "execution_count": 66,
   "metadata": {},
   "outputs": [
    {
     "data": {
      "text/latex": [
       "$\\displaystyle \\frac{0.000896798594867766 i y^{2}{\\left(z \\right)} e^{- 10.0 i z}}{1 - e^{- 20.0 i z}} + \\frac{20.0 i y{\\left(z \\right)} e^{- 10.0 i z}}{1 - e^{- 20.0 i z}} + \\frac{20.0 i e^{- 10.0 i z} \\frac{d}{d z} y{\\left(z \\right)}}{1 - e^{- 20.0 i z}} = 0$"
      ],
      "text/plain": [
       "Eq(0.000896798594867766*I*y(z)**2*exp(-10.0*I*z)/(1 - exp(-20.0*I*z)) + 20.0*I*y(z)*exp(-10.0*I*z)/(1 - exp(-20.0*I*z)) + 20.0*I*exp(-10.0*I*z)*Derivative(y(z), z)/(1 - exp(-20.0*I*z)), 0)"
      ]
     },
     "execution_count": 66,
     "metadata": {},
     "output_type": "execute_result"
    }
   ],
   "source": [
    "diff_eq = smp.Eq(a*y.diff(z)+a*y+b*y**2, 0)\n",
    "diff_eq"
   ]
  },
  {
   "cell_type": "code",
   "execution_count": 67,
   "metadata": {},
   "outputs": [
    {
     "data": {
      "text/latex": [
       "$\\displaystyle y{\\left(z \\right)} = - \\frac{22301.5514458394 C_{1}}{C_{1} - e^{z}}$"
      ],
      "text/plain": [
       "Eq(y(z), -22301.5514458394*C1/(C1 - exp(z)))"
      ]
     },
     "execution_count": 67,
     "metadata": {},
     "output_type": "execute_result"
    }
   ],
   "source": [
    "sol = smp.dsolve(diff_eq, y)\n",
    "sol"
   ]
  },
  {
   "cell_type": "code",
   "execution_count": 68,
   "metadata": {},
   "outputs": [
    {
     "data": {
      "text/latex": [
       "$\\displaystyle - \\frac{22301.5514458394 C_{1}}{C_{1} - e^{z}}$"
      ],
      "text/plain": [
       "-22301.5514458394*C1/(C1 - exp(z))"
      ]
     },
     "execution_count": 68,
     "metadata": {},
     "output_type": "execute_result"
    }
   ],
   "source": [
    "exp = sol.rhs\n",
    "exp"
   ]
  },
  {
   "cell_type": "code",
   "execution_count": 69,
   "metadata": {},
   "outputs": [
    {
     "data": {
      "text/plain": [
       "{y(1): 0.00112099824358471}"
      ]
     },
     "execution_count": 69,
     "metadata": {},
     "output_type": "execute_result"
    }
   ],
   "source": [
    "ics = {y.subs(z, L): smp.sqrt(constants.mu_0)/ZL}       # initial conditions\n",
    "ics"
   ]
  },
  {
   "cell_type": "code",
   "execution_count": 70,
   "metadata": {},
   "outputs": [
    {
     "data": {
      "text/latex": [
       "$\\displaystyle y{\\left(z \\right)} = - \\frac{0.0030471890021024}{1.36635740769097 \\cdot 10^{-7} - e^{z}}$"
      ],
      "text/plain": [
       "Eq(y(z), -0.0030471890021024/(1.36635740769097e-7 - exp(z)))"
      ]
     },
     "execution_count": 70,
     "metadata": {},
     "output_type": "execute_result"
    }
   ],
   "source": [
    "ivp = smp.dsolve(diff_eq, ics=ics)\n",
    "ivp"
   ]
  },
  {
   "cell_type": "code",
   "execution_count": 71,
   "metadata": {},
   "outputs": [
    {
     "data": {
      "image/png": "[encoded data removed]",
      "text/plain": [
       "<Figure size 640x480 with 1 Axes>"
      ]
     },
     "metadata": {},
     "output_type": "display_data"
    }
   ],
   "source": [
    "p1 = plot(ivp.rhs, (z, 0, L))"
   ]
  },
  {
   "attachments": {},
   "cell_type": "markdown",
   "metadata": {},
   "source": [
    "### Solving using the Analytic expression I derived"
   ]
  },
  {
   "cell_type": "code",
   "execution_count": 72,
   "metadata": {},
   "outputs": [
    {
     "data": {
      "text/latex": [
       "$\\displaystyle v{\\left(z \\right)}$"
      ],
      "text/plain": [
       "v(z)"
      ]
     },
     "execution_count": 72,
     "metadata": {},
     "output_type": "execute_result"
    }
   ],
   "source": [
    "v = smp.Function(\"v\")(z)\n",
    "v"
   ]
  },
  {
   "cell_type": "code",
   "execution_count": 78,
   "metadata": {},
   "outputs": [],
   "source": [
    "Gamma = smp.exp(-10j*x)\n",
    "a = -2 *  smp.diff(Gamma) * 1/(1-(Gamma)**2)\n",
    "b = 4*1j*w*smp.sqrt(constants.mu_0) * Gamma * 1/(1-(Gamma)**2)"
   ]
  },
  {
   "cell_type": "code",
   "execution_count": 79,
   "metadata": {},
   "outputs": [
    {
     "data": {
      "text/latex": [
       "$\\displaystyle I{\\left(x \\right)}$"
      ],
      "text/plain": [
       "I(x)"
      ]
     },
     "execution_count": 79,
     "metadata": {},
     "output_type": "execute_result"
    }
   ],
   "source": [
    "I = smp.Function(\"I\")(x)\n",
    "I"
   ]
  },
  {
   "cell_type": "code",
   "execution_count": 82,
   "metadata": {},
   "outputs": [
    {
     "data": {
      "text/latex": [
       "$\\displaystyle \\frac{\\left(1.0 + e^{- 10.0 i x}\\right)^{1.0}}{\\left(-1.0 + e^{- 10.0 i x}\\right)^{1.0}}$"
      ],
      "text/plain": [
       "(1.0 + exp(-10.0*I*x))**1.0/(-1.0 + exp(-10.0*I*x))**1.0"
      ]
     },
     "execution_count": 82,
     "metadata": {},
     "output_type": "execute_result"
    }
   ],
   "source": [
    "I = smp.exp(-1 * smp.integrate(a, x))\n",
    "I"
   ]
  },
  {
   "cell_type": "code",
   "execution_count": 83,
   "metadata": {},
   "outputs": [
    {
     "data": {
      "text/latex": [
       "$\\displaystyle \\operatorname{def}_{I}{\\left(x \\right)}$"
      ],
      "text/plain": [
       "def_I(x)"
      ]
     },
     "execution_count": 83,
     "metadata": {},
     "output_type": "execute_result"
    }
   ],
   "source": [
    "def_I = smp.Function(\"def_I\")(x)\n",
    "def_I"
   ]
  },
  {
   "cell_type": "code",
   "execution_count": 85,
   "metadata": {},
   "outputs": [
    {
     "data": {
      "text/latex": [
       "$\\displaystyle 0.000896798594867766 i \\int\\limits_{1}^{z} \\frac{\\left(1 + e^{- 10.0 i x}\\right)^{1.0} e^{10.0 i x}}{\\left(-1 + e^{- 10.0 i x}\\right)^{1.0} e^{20.0 i x} - \\left(-1 + e^{- 10.0 i x}\\right)^{1.0}}\\, dx$"
      ],
      "text/plain": [
       "0.000896798594867766*I*Integral((1 + exp(-10.0*I*x))**1.0*exp(10.0*I*x)/((-1 + exp(-10.0*I*x))**1.0*exp(20.0*I*x) - (-1 + exp(-10.0*I*x))**1.0), (x, 1, z))"
      ]
     },
     "execution_count": 85,
     "metadata": {},
     "output_type": "execute_result"
    }
   ],
   "source": [
    "def_I = smp.integrate(I * b, (x, L, z))\n",
    "def_I"
   ]
  },
  {
   "attachments": {},
   "cell_type": "markdown",
   "metadata": {},
   "source": [
    "Since `Sympy` is incapable of solving the given integral, we use the subordinate ODE to check the expression"
   ]
  },
  {
   "cell_type": "code",
   "execution_count": 86,
   "metadata": {},
   "outputs": [
    {
     "data": {
      "text/latex": [
       "$\\displaystyle - \\frac{20.0 i v{\\left(z \\right)} e^{- 10.0 i x}}{1 - e^{- 20.0 i x}} + \\frac{20.0 i e^{- 10.0 i x} \\frac{d}{d z} v{\\left(z \\right)}}{1 - e^{- 20.0 i x}} = \\frac{0.000896798594867766 i e^{- 10.0 i x}}{1 - e^{- 20.0 i x}}$"
      ],
      "text/plain": [
       "Eq(-20.0*I*v(z)*exp(-10.0*I*x)/(1 - exp(-20.0*I*x)) + 20.0*I*exp(-10.0*I*x)*Derivative(v(z), z)/(1 - exp(-20.0*I*x)), 0.000896798594867766*I*exp(-10.0*I*x)/(1 - exp(-20.0*I*x)))"
      ]
     },
     "execution_count": 86,
     "metadata": {},
     "output_type": "execute_result"
    }
   ],
   "source": [
    "diff_eq = smp.Eq(a*v.diff(z)-a*v, b)\n",
    "diff_eq"
   ]
  },
  {
   "cell_type": "code",
   "execution_count": 97,
   "metadata": {},
   "outputs": [
    {
     "data": {
      "text/plain": [
       "{v(1): 892.062057833577}"
      ]
     },
     "execution_count": 97,
     "metadata": {},
     "output_type": "execute_result"
    }
   ],
   "source": [
    "ics = {v.subs(z, L): ZL/smp.sqrt(constants.mu_0)}       # initial conditions\n",
    "ics"
   ]
  },
  {
   "cell_type": "code",
   "execution_count": 98,
   "metadata": {},
   "outputs": [
    {
     "data": {
      "text/latex": [
       "$\\displaystyle v{\\left(z \\right)} = 328.171307821751 e^{z} - 4.48399297433883 \\cdot 10^{-5}$"
      ],
      "text/plain": [
       "Eq(v(z), 328.171307821751*exp(z) - 4.48399297433883e-5)"
      ]
     },
     "execution_count": 98,
     "metadata": {},
     "output_type": "execute_result"
    }
   ],
   "source": [
    "ivp = smp.dsolve(diff_eq, ics=ics)\n",
    "ivp"
   ]
  },
  {
   "cell_type": "code",
   "execution_count": 99,
   "metadata": {},
   "outputs": [
    {
     "data": {
      "image/png": "[encoded data removed]",
      "text/plain": [
       "<Figure size 640x480 with 1 Axes>"
      ]
     },
     "metadata": {},
     "output_type": "display_data"
    }
   ],
   "source": [
    "p1 = plot((ivp.rhs)**(-1), (z, 0, L))"
   ]
  },
  {
   "attachments": {},
   "cell_type": "markdown",
   "metadata": {},
   "source": [
    "### Checking the Expression obtained for $v(z)$ ODE"
   ]
  },
  {
   "cell_type": "code",
   "execution_count": 100,
   "metadata": {},
   "outputs": [
    {
     "data": {
      "text/latex": [
       "$\\displaystyle a{\\left(z \\right)}$"
      ],
      "text/plain": [
       "a(z)"
      ]
     },
     "execution_count": 100,
     "metadata": {},
     "output_type": "execute_result"
    }
   ],
   "source": [
    "a = smp.Function(\"a\")(z)\n",
    "a"
   ]
  },
  {
   "cell_type": "code",
   "execution_count": 101,
   "metadata": {},
   "outputs": [
    {
     "data": {
      "text/latex": [
       "$\\displaystyle b{\\left(z \\right)}$"
      ],
      "text/plain": [
       "b(z)"
      ]
     },
     "execution_count": 101,
     "metadata": {},
     "output_type": "execute_result"
    }
   ],
   "source": [
    "b = smp.Function(\"b\")(z)\n",
    "b"
   ]
  },
  {
   "cell_type": "code",
   "execution_count": 103,
   "metadata": {},
   "outputs": [
    {
     "data": {
      "text/latex": [
       "$\\displaystyle - a{\\left(z \\right)} v{\\left(z \\right)} + \\frac{d}{d z} v{\\left(z \\right)} = b{\\left(z \\right)}$"
      ],
      "text/plain": [
       "Eq(-a(z)*v(z) + Derivative(v(z), z), b(z))"
      ]
     },
     "execution_count": 103,
     "metadata": {},
     "output_type": "execute_result"
    }
   ],
   "source": [
    "diff_eq = smp.Eq(v.diff(z)-a*v, b)\n",
    "diff_eq"
   ]
  },
  {
   "cell_type": "code",
   "execution_count": 104,
   "metadata": {},
   "outputs": [
    {
     "data": {
      "text/latex": [
       "$\\displaystyle v{\\left(z \\right)} = \\frac{\\left(C_{1} + \\int b{\\left(z \\right)} e^{- \\int a{\\left(z \\right)}\\, dz}\\, dz + \\int a{\\left(z \\right)} v{\\left(z \\right)} e^{- \\int a{\\left(z \\right)}\\, dz}\\, dz\\right) e^{\\int a{\\left(z \\right)}\\, dz}}{\\left(e^{\\int a{\\left(z \\right)}\\, dz}\\right) \\int a{\\left(z \\right)} e^{- \\int a{\\left(z \\right)}\\, dz}\\, dz + 1}$"
      ],
      "text/plain": [
       "Eq(v(z), (C1 + Integral(b(z)*exp(-Integral(a(z), z)), z) + Integral(a(z)*v(z)*exp(-Integral(a(z), z)), z))*exp(Integral(a(z), z))/(exp(Integral(a(z), z))*Integral(a(z)*exp(-Integral(a(z), z)), z) + 1))"
      ]
     },
     "execution_count": 104,
     "metadata": {},
     "output_type": "execute_result"
    }
   ],
   "source": [
    "sol = smp.dsolve(diff_eq, v)\n",
    "sol"
   ]
  }
 ],
 "metadata": {
  "kernelspec": {
   "display_name": "fproj",
   "language": "python",
   "name": "python3"
  },
  "language_info": {
   "codemirror_mode": {
    "name": "ipython",
    "version": 3
   },
   "file_extension": ".py",
   "mimetype": "text/x-python",
   "name": "python",
   "nbconvert_exporter": "python",
   "pygments_lexer": "ipython3",
   "version": "3.10.9"
  },
  "orig_nbformat": 4
 },
 "nbformat": 4,
 "nbformat_minor": 2
}
