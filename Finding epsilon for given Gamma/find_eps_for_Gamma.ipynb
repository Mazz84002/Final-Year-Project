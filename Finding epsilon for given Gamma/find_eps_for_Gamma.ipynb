{
 "cells": [
  {
   "cell_type": "code",
   "execution_count": 12,
   "metadata": {},
   "outputs": [],
   "source": [
    "import numpy as np\n",
    "from scipy.integrate import quad\n",
    "import matplotlib.pyplot as plt\n",
    "from scipy import constants"
   ]
  },
  {
   "cell_type": "code",
   "execution_count": 6,
   "metadata": {},
   "outputs": [],
   "source": [
    "# line parameters\n",
    "\n",
    "L, ZL, w, k = 1, 1, 10**9, 2/3\n",
    "z = np.linspace(0, L, 100)"
   ]
  },
  {
   "cell_type": "code",
   "execution_count": 14,
   "metadata": {},
   "outputs": [],
   "source": [
    "Gamma = lambda x: 1/3 * np.exp(2*j*5*10**(-18)*x)\n",
    "a = lambda x: (2*1j*5*10**(-18))/3 * np.exp(2*j*5*10**(-18)*x) * 1/(1-(Gamma)**2)\n",
    "b = lambda x: 4*1j*w*np.sqrt(constants.mu_0) * Gamma * 1/(1-(Gamma)**2)\n",
    "IF = np.exp()"
   ]
  },
  {
   "cell_type": "code",
   "execution_count": null,
   "metadata": {},
   "outputs": [],
   "source": [
    "for z_curr in z:\n",
    "    intgeral, integral_error = quad()"
   ]
  }
 ],
 "metadata": {
  "kernelspec": {
   "display_name": "fproj",
   "language": "python",
   "name": "python3"
  },
  "language_info": {
   "codemirror_mode": {
    "name": "ipython",
    "version": 3
   },
   "file_extension": ".py",
   "mimetype": "text/x-python",
   "name": "python",
   "nbconvert_exporter": "python",
   "pygments_lexer": "ipython3",
   "version": "3.10.9"
  },
  "orig_nbformat": 4
 },
 "nbformat": 4,
 "nbformat_minor": 2
}
