{
 "cells": [
  {
   "cell_type": "code",
   "execution_count": 15,
   "metadata": {},
   "outputs": [],
   "source": [
    "import numpy as np\n",
    "import scipy\n",
    "from scipy.integrate import odeint\n",
    "import math\n",
    "from scipy import constants as const"
   ]
  },
  {
   "cell_type": "code",
   "execution_count": 16,
   "metadata": {},
   "outputs": [],
   "source": [
    "L, ZL, k, w = 1, 1, 2/3, 10**9"
   ]
  },
  {
   "cell_type": "code",
   "execution_count": 27,
   "metadata": {},
   "outputs": [],
   "source": [
    "def Gamma(z):\n",
    "    return np.sin(z**2)\n",
    "\n",
    "def A(z):\n",
    "    return (4*1j*w*math.sqrt(const.mu_0)*Gamma(z))/(1-(Gamma(z))**2)\n",
    "\n",
    "def B(z):\n",
    "    return -2*(2*z*np.cos(z**2))*(1/(1-(Gamma(z))**2))"
   ]
  },
  {
   "cell_type": "code",
   "execution_count": 18,
   "metadata": {},
   "outputs": [],
   "source": [
    "def dxidz(xi, z):\n",
    "    return -A(z)*xi-B(z)*xi**2\n",
    "    \n",
    "xi0 = math.sqrt(const.mu_0)/ZL"
   ]
  },
  {
   "cell_type": "code",
   "execution_count": 29,
   "metadata": {},
   "outputs": [
    {
     "ename": "TypeError",
     "evalue": "Cannot cast array data from dtype('complex128') to dtype('float64') according to the rule 'safe'",
     "output_type": "error",
     "traceback": [
      "\u001b[0;31m---------------------------------------------------------------------------\u001b[0m",
      "\u001b[0;31mTypeError\u001b[0m                                 Traceback (most recent call last)",
      "Cell \u001b[0;32mIn[29], line 2\u001b[0m\n\u001b[1;32m      1\u001b[0m z \u001b[39m=\u001b[39m np\u001b[39m.\u001b[39mlinspace(\u001b[39m0\u001b[39m, L, \u001b[39m100\u001b[39m, dtype\u001b[39m=\u001b[39mnp\u001b[39m.\u001b[39mcomplex128)\n\u001b[0;32m----> 2\u001b[0m sol \u001b[39m=\u001b[39m odeint(dxidz, xi0, z)\n",
      "File \u001b[0;32m~/opt/anaconda3/envs/fproj/lib/python3.10/site-packages/scipy/integrate/_odepack_py.py:242\u001b[0m, in \u001b[0;36modeint\u001b[0;34m(func, y0, t, args, Dfun, col_deriv, full_output, ml, mu, rtol, atol, tcrit, h0, hmax, hmin, ixpr, mxstep, mxhnil, mxordn, mxords, printmessg, tfirst)\u001b[0m\n\u001b[1;32m    240\u001b[0m t \u001b[39m=\u001b[39m copy(t)\n\u001b[1;32m    241\u001b[0m y0 \u001b[39m=\u001b[39m copy(y0)\n\u001b[0;32m--> 242\u001b[0m output \u001b[39m=\u001b[39m _odepack\u001b[39m.\u001b[39;49modeint(func, y0, t, args, Dfun, col_deriv, ml, mu,\n\u001b[1;32m    243\u001b[0m                          full_output, rtol, atol, tcrit, h0, hmax, hmin,\n\u001b[1;32m    244\u001b[0m                          ixpr, mxstep, mxhnil, mxordn, mxords,\n\u001b[1;32m    245\u001b[0m                          \u001b[39mint\u001b[39;49m(\u001b[39mbool\u001b[39;49m(tfirst)))\n\u001b[1;32m    246\u001b[0m \u001b[39mif\u001b[39;00m output[\u001b[39m-\u001b[39m\u001b[39m1\u001b[39m] \u001b[39m<\u001b[39m \u001b[39m0\u001b[39m:\n\u001b[1;32m    247\u001b[0m     warning_msg \u001b[39m=\u001b[39m _msgs[output[\u001b[39m-\u001b[39m\u001b[39m1\u001b[39m]] \u001b[39m+\u001b[39m \u001b[39m\"\u001b[39m\u001b[39m Run with full_output = 1 to get quantitative information.\u001b[39m\u001b[39m\"\u001b[39m\n",
      "\u001b[0;31mTypeError\u001b[0m: Cannot cast array data from dtype('complex128') to dtype('float64') according to the rule 'safe'"
     ]
    }
   ],
   "source": [
    "z = np.linspace(0, L, 100, dtype=np.complex128)\n",
    "sol = odeint(dxidz, xi0, z)"
   ]
  },
  {
   "cell_type": "code",
   "execution_count": 26,
   "metadata": {},
   "outputs": [
    {
     "data": {
      "text/plain": [
       "array([[ 1.12099824e-03],\n",
       "       [ 3.67988759e-09],\n",
       "       [-8.14434969e-10],\n",
       "       [-1.34009917e-09],\n",
       "       [-9.83935529e-12],\n",
       "       [-2.26268909e-11],\n",
       "       [-1.89678216e-11],\n",
       "       [-1.53087522e-11],\n",
       "       [-1.16496828e-11],\n",
       "       [-7.99061345e-12],\n",
       "       [-4.33154407e-12],\n",
       "       [-6.72474700e-13],\n",
       "       [-4.81323924e-12],\n",
       "       [-1.07078058e-11],\n",
       "       [-1.66023724e-11],\n",
       "       [-2.24969389e-11],\n",
       "       [-2.83915055e-11],\n",
       "       [-3.42860721e-11],\n",
       "       [-3.98947340e-11],\n",
       "       [-3.93052672e-11],\n",
       "       [-3.87158004e-11],\n",
       "       [-3.81263336e-11],\n",
       "       [-3.75368668e-11],\n",
       "       [-3.69474000e-11],\n",
       "       [-3.63579332e-11],\n",
       "       [-3.57684664e-11],\n",
       "       [-3.51789996e-11],\n",
       "       [-3.45895327e-11],\n",
       "       [-3.40000659e-11],\n",
       "       [-3.34105991e-11],\n",
       "       [-3.28211323e-11],\n",
       "       [-3.22316655e-11],\n",
       "       [-3.16421987e-11],\n",
       "       [-3.10527319e-11],\n",
       "       [-3.04632651e-11],\n",
       "       [-2.98737983e-11],\n",
       "       [-2.92843315e-11],\n",
       "       [-2.86948647e-11],\n",
       "       [-2.81053979e-11],\n",
       "       [-2.75159311e-11],\n",
       "       [-2.69264643e-11],\n",
       "       [-2.63369975e-11],\n",
       "       [-2.57475307e-11],\n",
       "       [-2.51580639e-11],\n",
       "       [-2.45685971e-11],\n",
       "       [-2.39791303e-11],\n",
       "       [-2.33896634e-11],\n",
       "       [-2.28001966e-11],\n",
       "       [-2.22107298e-11],\n",
       "       [-2.16212630e-11]])"
      ]
     },
     "execution_count": 26,
     "metadata": {},
     "output_type": "execute_result"
    }
   ],
   "source": [
    "sol"
   ]
  }
 ],
 "metadata": {
  "kernelspec": {
   "display_name": "fproj",
   "language": "python",
   "name": "python3"
  },
  "language_info": {
   "codemirror_mode": {
    "name": "ipython",
    "version": 3
   },
   "file_extension": ".py",
   "mimetype": "text/x-python",
   "name": "python",
   "nbconvert_exporter": "python",
   "pygments_lexer": "ipython3",
   "version": "3.10.9"
  },
  "orig_nbformat": 4
 },
 "nbformat": 4,
 "nbformat_minor": 2
}
