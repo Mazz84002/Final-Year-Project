{
 "cells": [
  {
   "cell_type": "code",
   "execution_count": 37,
   "metadata": {},
   "outputs": [],
   "source": [
    "import numpy as np\n",
    "from scipy.integrate import quad\n",
    "import matplotlib.pyplot as plt\n",
    "from scipy import constants\n",
    "import sympy\n",
    "from sympy import *"
   ]
  },
  {
   "cell_type": "code",
   "execution_count": 38,
   "metadata": {},
   "outputs": [],
   "source": [
    "init_printing(use_unicode=False, wrap_line=False)\n",
    "z = Symbol('z')\n",
    "y = Symbol('y')\n",
    "s = Symbol('s')"
   ]
  },
  {
   "cell_type": "code",
   "execution_count": 56,
   "metadata": {},
   "outputs": [
    {
     "data": {
      "image/png": "[encoded data removed]",
      "text/latex": [
       "$\\displaystyle \\frac{1}{s + 10}$"
      ],
      "text/plain": [
       "  1   \n",
       "------\n",
       "s + 10"
      ]
     },
     "execution_count": 56,
     "metadata": {},
     "output_type": "execute_result"
    }
   ],
   "source": [
    "filter = 1/(s+10)\n",
    "filter"
   ]
  },
  {
   "cell_type": "code",
   "execution_count": 57,
   "metadata": {},
   "outputs": [
    {
     "data": {
      "image/png": "[encoded data removed]",
      "text/latex": [
       "$\\displaystyle e^{- 10 z} \\theta\\left(z\\right)$"
      ],
      "text/plain": [
       " -10*z             \n",
       "e     *Heaviside(z)"
      ]
     },
     "execution_count": 57,
     "metadata": {},
     "output_type": "execute_result"
    }
   ],
   "source": [
    "sympy.inverse_laplace_transform(filter, s, z)"
   ]
  },
  {
   "cell_type": "code",
   "execution_count": 58,
   "metadata": {},
   "outputs": [
    {
     "data": {
      "image/png": "[encoded data removed]",
      "text/latex": [
       "$\\displaystyle e^{- 10 z}$"
      ],
      "text/plain": [
       " -10*z\n",
       "e     "
      ]
     },
     "execution_count": 58,
     "metadata": {},
     "output_type": "execute_result"
    }
   ],
   "source": [
    "Gamma = exp(-10*z)\n",
    "Gamma"
   ]
  },
  {
   "cell_type": "code",
   "execution_count": 59,
   "metadata": {},
   "outputs": [],
   "source": [
    "# line parameters\n",
    "\n",
    "L, ZL, w, k = 1, 1, 0.2, 2/3"
   ]
  },
  {
   "cell_type": "code",
   "execution_count": 60,
   "metadata": {},
   "outputs": [
    {
     "data": {
      "image/png": "[encoded data removed]",
      "text/latex": [
       "$\\displaystyle \\frac{20 e^{- 10 z}}{1 - e^{- 20 z}}$"
      ],
      "text/plain": [
       "    -10*z \n",
       "20*e      \n",
       "----------\n",
       "     -20*z\n",
       "1 - e     "
      ]
     },
     "execution_count": 60,
     "metadata": {},
     "output_type": "execute_result"
    }
   ],
   "source": [
    "a = -2 *  diff(Gamma) * 1/(1-(Gamma)**2)\n",
    "a"
   ]
  },
  {
   "cell_type": "code",
   "execution_count": 61,
   "metadata": {},
   "outputs": [
    {
     "data": {
      "image/png": "[encoded data removed]",
      "text/latex": [
       "$\\displaystyle \\frac{0.000896798594867766 i e^{- 10 z}}{1 - e^{- 20 z}}$"
      ],
      "text/plain": [
       "                        -10*z\n",
       "0.000896798594867766*I*e     \n",
       "-----------------------------\n",
       "               -20*z         \n",
       "          1 - e              "
      ]
     },
     "execution_count": 61,
     "metadata": {},
     "output_type": "execute_result"
    }
   ],
   "source": [
    "b = 4*1j*w*sqrt(constants.mu_0) * Gamma * 1/(1-(Gamma)**2)\n",
    "b"
   ]
  },
  {
   "cell_type": "code",
   "execution_count": 62,
   "metadata": {},
   "outputs": [
    {
     "data": {
      "image/png": "[encoded data removed]",
      "text/latex": [
       "$\\displaystyle \\frac{1 + e^{- 10 z}}{-1 + e^{- 10 z}}$"
      ],
      "text/plain": [
       "      -10*z\n",
       " 1 + e     \n",
       "-----------\n",
       "      -10*z\n",
       "-1 + e     "
      ]
     },
     "execution_count": 62,
     "metadata": {},
     "output_type": "execute_result"
    }
   ],
   "source": [
    "A = integrate(a, z)\n",
    "I = exp(-A)\n",
    "I"
   ]
  },
  {
   "cell_type": "code",
   "execution_count": 69,
   "metadata": {},
   "outputs": [
    {
     "data": {
      "image/png": "[encoded data removed]",
      "text/latex": [
       "$\\displaystyle \\frac{0.000896798594867766 i \\left(1 + e^{- 10 z}\\right) e^{- 10 z}}{\\left(-1 + e^{- 10 z}\\right) \\left(1 - e^{- 20 z}\\right)}$"
      ],
      "text/plain": [
       "                       /     -10*z\\  -10*z\n",
       "0.000896798594867766*I*\\1 + e     /*e     \n",
       "------------------------------------------\n",
       "        /      -10*z\\ /     -20*z\\        \n",
       "        \\-1 + e     /*\\1 - e     /        "
      ]
     },
     "execution_count": 69,
     "metadata": {},
     "output_type": "execute_result"
    }
   ],
   "source": [
    "I1 = I*b\n",
    "I1"
   ]
  },
  {
   "cell_type": "code",
   "execution_count": 73,
   "metadata": {},
   "outputs": [
    {
     "ename": "PolynomialError",
     "evalue": "(-0.000896798594867766*_t0**2*I - 0.000896798594867766*_t0*I)/(1.0*_t0**3 - 1.0*_t0**2 - 1.0*_t0 + 1.0) is not an element of K[_t0, 1/_t0].",
     "output_type": "error",
     "traceback": [
      "\u001b[0;31m---------------------------------------------------------------------------\u001b[0m",
      "\u001b[0;31mPolynomialError\u001b[0m                           Traceback (most recent call last)",
      "Cell \u001b[0;32mIn[73], line 1\u001b[0m\n\u001b[0;32m----> 1\u001b[0m DI \u001b[39m=\u001b[39m integrate(I1, z)\n\u001b[1;32m      2\u001b[0m DI_L \u001b[39m=\u001b[39m DI\u001b[39m.\u001b[39msubs(z, L)\n\u001b[1;32m      3\u001b[0m DI\u001b[39m-\u001b[39mDI_L\n",
      "File \u001b[0;32m~/opt/anaconda3/envs/fproj/lib/python3.10/site-packages/sympy/integrals/integrals.py:1567\u001b[0m, in \u001b[0;36mintegrate\u001b[0;34m(meijerg, conds, risch, heurisch, manual, *args, **kwargs)\u001b[0m\n\u001b[1;32m   1564\u001b[0m integral \u001b[39m=\u001b[39m Integral(\u001b[39m*\u001b[39margs, \u001b[39m*\u001b[39m\u001b[39m*\u001b[39mkwargs)\n\u001b[1;32m   1566\u001b[0m \u001b[39mif\u001b[39;00m \u001b[39misinstance\u001b[39m(integral, Integral):\n\u001b[0;32m-> 1567\u001b[0m     \u001b[39mreturn\u001b[39;00m integral\u001b[39m.\u001b[39;49mdoit(\u001b[39m*\u001b[39;49m\u001b[39m*\u001b[39;49mdoit_flags)\n\u001b[1;32m   1568\u001b[0m \u001b[39melse\u001b[39;00m:\n\u001b[1;32m   1569\u001b[0m     new_args \u001b[39m=\u001b[39m [a\u001b[39m.\u001b[39mdoit(\u001b[39m*\u001b[39m\u001b[39m*\u001b[39mdoit_flags) \u001b[39mif\u001b[39;00m \u001b[39misinstance\u001b[39m(a, Integral) \u001b[39melse\u001b[39;00m a\n\u001b[1;32m   1570\u001b[0m         \u001b[39mfor\u001b[39;00m a \u001b[39min\u001b[39;00m integral\u001b[39m.\u001b[39margs]\n",
      "File \u001b[0;32m~/opt/anaconda3/envs/fproj/lib/python3.10/site-packages/sympy/integrals/integrals.py:612\u001b[0m, in \u001b[0;36mIntegral.doit\u001b[0;34m(self, **hints)\u001b[0m\n\u001b[1;32m    610\u001b[0m     antideriv \u001b[39m=\u001b[39m \u001b[39mNone\u001b[39;00m\n\u001b[1;32m    611\u001b[0m \u001b[39melse\u001b[39;00m:\n\u001b[0;32m--> 612\u001b[0m     antideriv \u001b[39m=\u001b[39m \u001b[39mself\u001b[39;49m\u001b[39m.\u001b[39;49m_eval_integral(\n\u001b[1;32m    613\u001b[0m         function, xab[\u001b[39m0\u001b[39;49m], \u001b[39m*\u001b[39;49m\u001b[39m*\u001b[39;49meval_kwargs)\n\u001b[1;32m    614\u001b[0m     \u001b[39mif\u001b[39;00m antideriv \u001b[39mis\u001b[39;00m \u001b[39mNone\u001b[39;00m \u001b[39mand\u001b[39;00m meijerg \u001b[39mis\u001b[39;00m \u001b[39mTrue\u001b[39;00m:\n\u001b[1;32m    615\u001b[0m         ret \u001b[39m=\u001b[39m try_meijerg(function, xab)\n",
      "File \u001b[0;32m~/opt/anaconda3/envs/fproj/lib/python3.10/site-packages/sympy/integrals/integrals.py:955\u001b[0m, in \u001b[0;36mIntegral._eval_integral\u001b[0;34m(self, f, x, meijerg, risch, manual, heurisch, conds, final)\u001b[0m\n\u001b[1;32m    953\u001b[0m \u001b[39mif\u001b[39;00m risch \u001b[39mis\u001b[39;00m \u001b[39mnot\u001b[39;00m \u001b[39mFalse\u001b[39;00m:\n\u001b[1;32m    954\u001b[0m     \u001b[39mtry\u001b[39;00m:\n\u001b[0;32m--> 955\u001b[0m         result, i \u001b[39m=\u001b[39m risch_integrate(f, x, separate_integral\u001b[39m=\u001b[39;49m\u001b[39mTrue\u001b[39;49;00m,\n\u001b[1;32m    956\u001b[0m             conds\u001b[39m=\u001b[39;49mconds)\n\u001b[1;32m    957\u001b[0m     \u001b[39mexcept\u001b[39;00m \u001b[39mNotImplementedError\u001b[39;00m:\n\u001b[1;32m    958\u001b[0m         \u001b[39mpass\u001b[39;00m\n",
      "File \u001b[0;32m~/opt/anaconda3/envs/fproj/lib/python3.10/site-packages/sympy/integrals/risch.py:1829\u001b[0m, in \u001b[0;36mrisch_integrate\u001b[0;34m(f, x, extension, handle_first, separate_integral, rewrite_complex, conds)\u001b[0m\n\u001b[1;32m   1827\u001b[0m fa, fd \u001b[39m=\u001b[39m fa\u001b[39m.\u001b[39mcancel(fd, include\u001b[39m=\u001b[39m\u001b[39mTrue\u001b[39;00m)\n\u001b[1;32m   1828\u001b[0m \u001b[39mif\u001b[39;00m case \u001b[39m==\u001b[39m \u001b[39m'\u001b[39m\u001b[39mexp\u001b[39m\u001b[39m'\u001b[39m:\n\u001b[0;32m-> 1829\u001b[0m     ans, i, b \u001b[39m=\u001b[39m integrate_hyperexponential(fa, fd, DE, conds\u001b[39m=\u001b[39;49mconds)\n\u001b[1;32m   1830\u001b[0m \u001b[39melif\u001b[39;00m case \u001b[39m==\u001b[39m \u001b[39m'\u001b[39m\u001b[39mprimitive\u001b[39m\u001b[39m'\u001b[39m:\n\u001b[1;32m   1831\u001b[0m     ans, i, b \u001b[39m=\u001b[39m integrate_primitive(fa, fd, DE)\n",
      "File \u001b[0;32m~/opt/anaconda3/envs/fproj/lib/python3.10/site-packages/sympy/integrals/risch.py:1560\u001b[0m, in \u001b[0;36mintegrate_hyperexponential\u001b[0;34m(a, d, DE, z, conds)\u001b[0m\n\u001b[1;32m   1556\u001b[0m \u001b[39m# p should be a polynomial in t and 1/t, because Sirr == k[t, 1/t]\u001b[39;00m\n\u001b[1;32m   1557\u001b[0m \u001b[39m# h - Dg2 + r\u001b[39;00m\n\u001b[1;32m   1558\u001b[0m p \u001b[39m=\u001b[39m cancel(h[\u001b[39m0\u001b[39m]\u001b[39m.\u001b[39mas_expr()\u001b[39m/\u001b[39mh[\u001b[39m1\u001b[39m]\u001b[39m.\u001b[39mas_expr() \u001b[39m-\u001b[39m residue_reduce_derivation(g2,\n\u001b[1;32m   1559\u001b[0m     DE, z) \u001b[39m+\u001b[39m r[\u001b[39m0\u001b[39m]\u001b[39m.\u001b[39mas_expr()\u001b[39m/\u001b[39mr[\u001b[39m1\u001b[39m]\u001b[39m.\u001b[39mas_expr())\n\u001b[0;32m-> 1560\u001b[0m pp \u001b[39m=\u001b[39m as_poly_1t(p, DE\u001b[39m.\u001b[39;49mt, z)\n\u001b[1;32m   1562\u001b[0m qa, qd, b \u001b[39m=\u001b[39m integrate_hyperexponential_polynomial(pp, DE, z)\n\u001b[1;32m   1564\u001b[0m i \u001b[39m=\u001b[39m pp\u001b[39m.\u001b[39mnth(\u001b[39m0\u001b[39m, \u001b[39m0\u001b[39m)\n",
      "File \u001b[0;32m~/opt/anaconda3/envs/fproj/lib/python3.10/site-packages/sympy/integrals/risch.py:861\u001b[0m, in \u001b[0;36mas_poly_1t\u001b[0;34m(p, t, z)\u001b[0m\n\u001b[1;32m    856\u001b[0m pa, pd \u001b[39m=\u001b[39m frac_in(p, t, cancel\u001b[39m=\u001b[39m\u001b[39mTrue\u001b[39;00m)\n\u001b[1;32m    857\u001b[0m \u001b[39mif\u001b[39;00m \u001b[39mnot\u001b[39;00m pd\u001b[39m.\u001b[39mis_monomial:\n\u001b[1;32m    858\u001b[0m     \u001b[39m# XXX: Is there a better Poly exception that we could raise here?\u001b[39;00m\n\u001b[1;32m    859\u001b[0m     \u001b[39m# Either way, if you see this (from the Risch Algorithm) it indicates\u001b[39;00m\n\u001b[1;32m    860\u001b[0m     \u001b[39m# a bug.\u001b[39;00m\n\u001b[0;32m--> 861\u001b[0m     \u001b[39mraise\u001b[39;00m PolynomialError(\u001b[39m\"\u001b[39m\u001b[39m%s\u001b[39;00m\u001b[39m is not an element of K[\u001b[39m\u001b[39m%s\u001b[39;00m\u001b[39m, 1/\u001b[39m\u001b[39m%s\u001b[39;00m\u001b[39m].\u001b[39m\u001b[39m\"\u001b[39m \u001b[39m%\u001b[39m (p, t, t))\n\u001b[1;32m    862\u001b[0m d \u001b[39m=\u001b[39m pd\u001b[39m.\u001b[39mdegree(t)\n\u001b[1;32m    863\u001b[0m one_t_part \u001b[39m=\u001b[39m pa\u001b[39m.\u001b[39mslice(\u001b[39m0\u001b[39m, d \u001b[39m+\u001b[39m \u001b[39m1\u001b[39m)\n",
      "\u001b[0;31mPolynomialError\u001b[0m: (-0.000896798594867766*_t0**2*I - 0.000896798594867766*_t0*I)/(1.0*_t0**3 - 1.0*_t0**2 - 1.0*_t0 + 1.0) is not an element of K[_t0, 1/_t0]."
     ]
    }
   ],
   "source": [
    "DI = integrate(I1, z)\n",
    "DI_L = DI.subs(z, L)\n",
    "DI-DI_L"
   ]
  },
  {
   "cell_type": "code",
   "execution_count": 52,
   "metadata": {},
   "outputs": [
    {
     "data": {
      "image/png": "[encoded data removed]",
      "text/latex": [
       "$\\displaystyle \\frac{e^{-10} + 1}{-1 + e^{-10}}$"
      ],
      "text/plain": [
       "  -10    \n",
       " e    + 1\n",
       "---------\n",
       "      -10\n",
       "-1 + e   "
      ]
     },
     "execution_count": 52,
     "metadata": {},
     "output_type": "execute_result"
    }
   ],
   "source": [
    "I_L = I.subs(z, L)\n",
    "I_L"
   ]
  },
  {
   "cell_type": "code",
   "execution_count": 55,
   "metadata": {},
   "outputs": [
    {
     "data": {
      "image/png": "[encoded data removed]",
      "text/latex": [
       "$\\displaystyle \\frac{1.25663706212 \\cdot 10^{-6} \\left(e^{- 10 z} + \\frac{1}{z}\\right)^{2}}{\\left(e^{- 10 z} - \\frac{1}{z}\\right)^{2} \\left(0.00112099824358471 \\int \\frac{z + e^{10 z}}{z - e^{10 z}}\\, dz - 0.00112099824358471 \\int\\limits^{1} \\frac{z + e^{10 z}}{z - e^{10 z}}\\, dz + \\frac{e^{-10} + 1}{-1 + e^{-10}}\\right)^{2}}$"
      ],
      "text/plain": [
       "                                                                  2                                    \n",
       "                                                      / -10*z   1\\                                     \n",
       "                                     1.25663706212e-6*|e      + -|                                     \n",
       "                                                      \\         z/                                     \n",
       "-------------------------------------------------------------------------------------------------------\n",
       "                                                                                                      2\n",
       "              /                                                            1                         \\ \n",
       "              |                      /                                     /                         | \n",
       "              |                     |                                     |                          | \n",
       "            2 |                     |      10*z                           |       10*z        -10    | \n",
       "/ -10*z   1\\  |                     | z + e                               |  z + e           e    + 1| \n",
       "|e      - -| *|0.00112099824358471* | --------- dz - 0.00112099824358471* |  --------- dz + ---------| \n",
       "\\         z/  |                     |      10*z                           |       10*z            -10| \n",
       "              |                     | z - e                               |  z - e          -1 + e   | \n",
       "              |                     |                                     |                          | \n",
       "              |                    /                                     /                           | \n",
       "              \\                                                                                      / "
      ]
     },
     "execution_count": 55,
     "metadata": {},
     "output_type": "execute_result"
    }
   ],
   "source": [
    "xi = I / ( I_L*(ZL/sqrt(constants.mu_0)) + DI-DI_L )\n",
    "eps = xi**2\n",
    "eps"
   ]
  },
  {
   "cell_type": "code",
   "execution_count": null,
   "metadata": {},
   "outputs": [
    {
     "name": "stdout",
     "output_type": "stream",
     "text": [
      "1.25663706212e-6*exp(-4*Integral(exp(10*z)*Heaviside(z)/(z**2*Heaviside(z)**2 - exp(20*z)), (z, 0)) - 4*Integral(z*exp(10*z)*DiracDelta(z)/(z**2*Heaviside(z)**2 - exp(20*z)), (z, 0)) - 4*Integral(-10*z*exp(10*z)*Heaviside(z)/(z**2*Heaviside(z)**2 - exp(20*z)), (z, 0)))/(exp(-2*Integral(exp(10*z)*Heaviside(z)/(z**2*Heaviside(z)**2 - exp(20*z)), (z, 1)) - 2*Integral(z*exp(10*z)*DiracDelta(z)/(z**2*Heaviside(z)**2 - exp(20*z)), (z, 1)) - 2*Integral(-10*z*exp(10*z)*Heaviside(z)/(z**2*Heaviside(z)**2 - exp(20*z)), (z, 1))) - 1.005309649696e-6*I*Integral(z*exp(10*z)*Heaviside(z)/(z**2*exp(2*Integral(exp(10*z)*Heaviside(z)/(z**2*Heaviside(z)**2 - exp(20*z)), z))*exp(2*Integral(z*exp(10*z)*DiracDelta(z)/(z**2*Heaviside(z)**2 - exp(20*z)), z))*exp(2*Integral(-10*z*exp(10*z)*Heaviside(z)/(z**2*Heaviside(z)**2 - exp(20*z)), z))*Heaviside(z)**2 - exp(20*z)*exp(2*Integral(exp(10*z)*Heaviside(z)/(z**2*Heaviside(z)**2 - exp(20*z)), z))*exp(2*Integral(z*exp(10*z)*DiracDelta(z)/(z**2*Heaviside(z)**2 - exp(20*z)), z))*exp(2*Integral(-10*z*exp(10*z)*Heaviside(z)/(z**2*Heaviside(z)**2 - exp(20*z)), z))), (z, 0)) + 1.005309649696e-6*I*Integral(z*exp(10*z)*Heaviside(z)/(z**2*exp(2*Integral(exp(10*z)*Heaviside(z)/(z**2*Heaviside(z)**2 - exp(20*z)), z))*exp(2*Integral(z*exp(10*z)*DiracDelta(z)/(z**2*Heaviside(z)**2 - exp(20*z)), z))*exp(2*Integral(-10*z*exp(10*z)*Heaviside(z)/(z**2*Heaviside(z)**2 - exp(20*z)), z))*Heaviside(z)**2 - exp(20*z)*exp(2*Integral(exp(10*z)*Heaviside(z)/(z**2*Heaviside(z)**2 - exp(20*z)), z))*exp(2*Integral(z*exp(10*z)*DiracDelta(z)/(z**2*Heaviside(z)**2 - exp(20*z)), z))*exp(2*Integral(-10*z*exp(10*z)*Heaviside(z)/(z**2*Heaviside(z)**2 - exp(20*z)), z))), (z, 1)))**2\n"
     ]
    }
   ],
   "source": [
    "print(eps.subs(z, 0))"
   ]
  },
  {
   "cell_type": "code",
   "execution_count": null,
   "metadata": {},
   "outputs": [],
   "source": []
  }
 ],
 "metadata": {
  "kernelspec": {
   "display_name": "fproj",
   "language": "python",
   "name": "python3"
  },
  "language_info": {
   "codemirror_mode": {
    "name": "ipython",
    "version": 3
   },
   "file_extension": ".py",
   "mimetype": "text/x-python",
   "name": "python",
   "nbconvert_exporter": "python",
   "pygments_lexer": "ipython3",
   "version": "3.10.9"
  },
  "orig_nbformat": 4
 },
 "nbformat": 4,
 "nbformat_minor": 2
}
